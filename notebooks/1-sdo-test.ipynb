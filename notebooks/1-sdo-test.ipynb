{
 "cells": [
  {
   "cell_type": "code",
   "execution_count": 1,
   "metadata": {},
   "outputs": [],
   "source": [
    "import pandas as pd"
   ]
  },
  {
   "cell_type": "code",
   "execution_count": 10,
   "metadata": {},
   "outputs": [],
   "source": [
    "# get path\n",
    "path_sdo = 'https://storage.googleapis.com/co-publicdata/sya-region.csv'\n",
    "\n",
    "# get population by year\n",
    "df_sdo = (\n",
    "    pd.read_csv(path_sdo,skiprows=[0])\n",
    "    .query(\"reg_num==3 and year>=2010\")\n",
    "    .groupby('year')[['totalpopulation']]\n",
    "    .sum()\n",
    "    .reset_index()\n",
    ")\n",
    "\n",
    "# save as json\n",
    "df_sdo.to_json(\"../data/1-sdo-test.json\")"
   ]
  }
 ],
 "metadata": {
  "kernelspec": {
   "display_name": "saf_qc",
   "language": "python",
   "name": "python3"
  },
  "language_info": {
   "codemirror_mode": {
    "name": "ipython",
    "version": 3
   },
   "file_extension": ".py",
   "mimetype": "text/x-python",
   "name": "python",
   "nbconvert_exporter": "python",
   "pygments_lexer": "ipython3",
   "version": "3.9.13"
  },
  "orig_nbformat": 4
 },
 "nbformat": 4,
 "nbformat_minor": 2
}
