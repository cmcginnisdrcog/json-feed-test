{
 "cells": [
  {
   "cell_type": "code",
   "execution_count": 75,
   "metadata": {},
   "outputs": [],
   "source": [
    "import pandas as pd\n",
    "import json"
   ]
  },
  {
   "cell_type": "code",
   "execution_count": 76,
   "metadata": {},
   "outputs": [],
   "source": [
    "start_year = 2010\n",
    "\n",
    "# get path\n",
    "path_sdo = 'https://storage.googleapis.com/co-publicdata/sya-region.csv'\n",
    "\n",
    "# get population by year\n",
    "df_sdo = (\n",
    "    pd.read_csv(path_sdo,skiprows=[0])\n",
    "    .query(f\"reg_num==3 and year>={start_year}\")\n",
    "    .groupby('year')[['totalpopulation']]\n",
    "    .sum()\n",
    "    .reset_index()\n",
    ")\n",
    "\n",
    "# save df as json\n",
    "df_sdo.to_json(\"../data/1-sdo-test.json\",orient='split', index=False)\n",
    "\n",
    "# convert to list\n",
    "list_sdo = [[[col]+df_sdo[col].values.tolist() for col in df_sdo.columns]]\n",
    "\n",
    "# save list as json\n",
    "with open(\"../data/2-sdo-test.json\", \"w\") as fp:\n",
    "    json.dump(list_sdo, fp)\n",
    "\n",
    "# convert to list\n",
    "list_sdo_2 = [\n",
    "    [df_sdo.columns.tolist()] +\n",
    "    [df_sdo.iloc[row,:].values.tolist() for row in df_sdo.index]\n",
    "]\n",
    "\n",
    "# save list as json\n",
    "with open(\"../data/3-sdo-test.json\", \"w\") as fp:\n",
    "    json.dump(list_sdo_2, fp)\n",
    "\n",
    "# male female breakdown\n",
    "df_sdo_mf = (\n",
    "    pd.read_csv(path_sdo,skiprows=[0])\n",
    "    .query(f\"reg_num==3 and year>={start_year}\")\n",
    "    .groupby('year')[['malepopulation','femalepopulation']]\n",
    "    .sum()\n",
    "    .reset_index()\n",
    ")\n",
    "\n",
    "list_sdo_mf = [\n",
    "    [df_sdo_mf.columns.tolist()] +\n",
    "    [df_sdo_mf.iloc[row,:].values.tolist() for row in df_sdo_mf.index]\n",
    "]\n",
    "\n",
    "# save list as json\n",
    "with open(\"../data/4-sdo-test-mf.json\", \"w\") as fp:\n",
    "    json.dump(list_sdo_mf, fp)"
   ]
  },
  {
   "cell_type": "code",
   "execution_count": 79,
   "metadata": {},
   "outputs": [],
   "source": [
    "list_multitab = list_sdo_2 + list_sdo_mf\n",
    "\n",
    "# save list as json\n",
    "with open(\"../data/5-sdo-test-multitab.json\", \"w\") as fp:\n",
    "    json.dump(list_multitab, fp)"
   ]
  }
 ],
 "metadata": {
  "kernelspec": {
   "display_name": "saf_qc",
   "language": "python",
   "name": "python3"
  },
  "language_info": {
   "codemirror_mode": {
    "name": "ipython",
    "version": 3
   },
   "file_extension": ".py",
   "mimetype": "text/x-python",
   "name": "python",
   "nbconvert_exporter": "python",
   "pygments_lexer": "ipython3",
   "version": "3.9.13"
  },
  "orig_nbformat": 4
 },
 "nbformat": 4,
 "nbformat_minor": 2
}
