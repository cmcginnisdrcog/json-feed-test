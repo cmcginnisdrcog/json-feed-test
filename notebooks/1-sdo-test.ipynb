{
 "cells": [
  {
   "cell_type": "code",
   "execution_count": 4,
   "metadata": {},
   "outputs": [],
   "source": [
    "import pandas as pd\n",
    "import json"
   ]
  },
  {
   "cell_type": "code",
   "execution_count": 5,
   "metadata": {},
   "outputs": [],
   "source": [
    "# get path\n",
    "path_sdo = 'https://storage.googleapis.com/co-publicdata/sya-region.csv'\n",
    "\n",
    "# define start year\n",
    "start_year = 2010\n",
    "\n",
    "# defing function for df to json\n",
    "def infogram_json(df, path, filename):\n",
    "    # convert df to nested list\n",
    "    list_df = [\n",
    "        [df.columns.tolist()] +\n",
    "        [df.iloc[row,:].values.tolist() for row in df.index]\n",
    "    ]\n",
    "\n",
    "    # save list as json\n",
    "    with open(f\"{path}{filename}\", \"w\") as fp:\n",
    "        json.dump(list_df, fp)"
   ]
  },
  {
   "cell_type": "code",
   "execution_count": 6,
   "metadata": {},
   "outputs": [],
   "source": [
    "# get grouped object\n",
    "df_grouped=(\n",
    "    pd.read_csv(path_sdo,skiprows=[0])\n",
    "    .query(f\"reg_num==3 and year>={start_year}\")\n",
    "    .groupby('year')\n",
    ")\n",
    "\n",
    "# get population by year\n",
    "df_sdo=df_grouped[['totalpopulation']].sum().reset_index()\n",
    "\n",
    "# save as json\n",
    "infogram_json(df_sdo,\"../data/\",\"totalpop.json\")\n",
    "\n",
    "# get male/female population breakdown\n",
    "df_sdo_mf=df_grouped[['malepopulation','femalepopulation']].sum().reset_index()\n",
    "\n",
    "# save as json\n",
    "infogram_json(df_sdo_mf,\"../data/\",\"genderpop.json\")"
   ]
  }
 ],
 "metadata": {
  "kernelspec": {
   "display_name": "saf_qc",
   "language": "python",
   "name": "python3"
  },
  "language_info": {
   "codemirror_mode": {
    "name": "ipython",
    "version": 3
   },
   "file_extension": ".py",
   "mimetype": "text/x-python",
   "name": "python",
   "nbconvert_exporter": "python",
   "pygments_lexer": "ipython3",
   "version": "3.9.13"
  },
  "orig_nbformat": 4
 },
 "nbformat": 4,
 "nbformat_minor": 2
}
